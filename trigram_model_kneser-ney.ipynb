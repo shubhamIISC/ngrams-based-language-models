{
 "cells": [
  {
   "cell_type": "code",
   "execution_count": 1,
   "metadata": {
    "collapsed": true
   },
   "outputs": [],
   "source": [
    "import pandas as pd\n",
    "import collections\n",
    "import matplotlib.pyplot as plt\n",
    "import numpy as np\n",
    "import string\n",
    "import nltk\n",
    "from nltk.util import ngrams\n",
    "from sklearn.model_selection import train_test_split\n",
    "pd.set_option('display.max_column',4000)\n",
    "pd.set_option('display.max_row',4000)"
   ]
  },
  {
   "cell_type": "code",
   "execution_count": 2,
   "metadata": {
    "collapsed": true
   },
   "outputs": [],
   "source": [
    "from nltk.corpus import gutenberg\n",
    "from nltk.corpus import brown\n"
   ]
  },
  {
   "cell_type": "code",
   "execution_count": 26,
   "metadata": {
    "collapsed": true
   },
   "outputs": [],
   "source": [
    "def findperplexity_KN(text_tr,text_te,label):\n",
    "\n",
    "    text_tr,text_cv=train_test_split(text_tr,test_size=.20,random_state=4)\n",
    "    words_tr=[]\n",
    "    for i in range(len(text_tr)):\n",
    "        words_tr.extend(text_tr[i])\n",
    "    word_counts=len(words_tr)\n",
    "\n",
    "\n",
    "    unigram=collections.Counter(words_tr)\n",
    "    list_count_1=[word for word in unigram.keys() if unigram[word]==1]\n",
    "    list_count_1_len=len(list_count_1)\n",
    "    np.random.shuffle(list_count_1)\n",
    "    list_count_1=list_count_1[:int(list_count_1_len/10)]\n",
    "    list_count_1_dic=dict(collections.Counter(list_count_1))\n",
    "    for i in range(word_counts):\n",
    "        if(list_count_1_dic.get(words_tr[i],\"empty\")!=\"empty\"):\n",
    "            words_tr[i]='<UNK>'\n",
    " \n",
    "\n",
    "\n",
    "    bigram = ngrams(words_tr,2)\n",
    "    bgcounter=dict(collections.Counter(bigram))\n",
    "    bg_keys=list(bgcounter.keys())\n",
    "    total_bigram_types=len(bg_keys)\n",
    "\n",
    "\n",
    "\n",
    "    trigram = ngrams(words_tr,3)\n",
    "    tgcounter=dict(collections.Counter(trigram))\n",
    "    tg_keys=list(tgcounter.keys())\n",
    "    total_trigram_types=len(tg_keys)\n",
    "\n",
    "\n",
    "    ugcounter=dict(collections.Counter(words_tr))\n",
    "    ug_keys=list(ugcounter.keys())\n",
    "\n",
    "\n",
    "\n",
    "    count_first={}\n",
    "    for i in ug_keys:\n",
    "        count_first[i]=0\n",
    "    for i in bg_keys:\n",
    "        count_first[i[0]]=count_first[i[0]]+1\n",
    "    Pcont={}\n",
    "    norm_constant={}\n",
    "\n",
    "\n",
    "    count_first_bg={}\n",
    "    count_second_bg={}\n",
    "    count_second_ug={}\n",
    "    count_first_ug={}\n",
    "    count_third_ug={}\n",
    "    for i in tg_keys:\n",
    "        count_first_bg[(i[0],i[1])]=0\n",
    "        count_second_bg[(i[1],i[2])]=0\n",
    "        count_second_ug[i[1]]=0\n",
    "        count_first_ug[i[0]]=0\n",
    "        count_third_ug[i[2]]=0\n",
    "    for i in tg_keys:\n",
    "        count_first_bg[(i[0],i[1])]= count_first_bg[(i[0],i[1])]+1\n",
    "        count_second_bg[(i[1],i[2])]= count_second_bg[(i[1],i[2])]+1\n",
    "        count_second_ug[i[1]]=count_second_ug[i[1]]+1\n",
    "        count_first_ug[i[1]]=count_first_ug[i[1]]+1\n",
    "        count_third_ug[i[2]]=count_third_ug[i[2]]+1\n",
    "\n",
    "    for i in ug_keys:\n",
    "        norm_constant[i]=(.75*(count_first[i]))/count_second_ug[i]\n",
    "    for i in ug_keys:\n",
    "        Pcont[i]=count_third_ug[i]/total_trigram_types\n",
    "\n",
    "\n",
    "\n",
    "    def findPKn_bigram(x):\n",
    "        #c=count_second_bg.get(x,0)/count_second_ug[x[0]]\n",
    "        return max((count_second_bg.get(x,0)-.75),0)/count_second_ug[x[0]]+norm_constant[x[0]]*(Pcont[x[1]])\n",
    "\n",
    "\n",
    "    def findPKn_trigram(x,d):\n",
    "        bgcount=findPKn_bigram((x[0],x[1]))*count_second_ug[x[0]]\n",
    "        a=max((tgcounter.get(x,0)-d),0)/bgcounter[(x[0],x[1])]\n",
    "        b=(d*count_first_bg.get((x[0],x[1]),0)*findPKn_bigram((x[1],x[2])))/bgcounter[(x[0],x[1])]\n",
    "        return a+b\n",
    "\n",
    "\n",
    "\n",
    "    words_cv=[]\n",
    "    for i in range(len(text_cv)):\n",
    "        words_cv.extend(text_cv[i])\n",
    "    for i in range(len(words_cv)):\n",
    "        if(words_cv[i] not in ugcounter):\n",
    "            words_cv[i]='<UNK>'\n",
    "\n",
    "    N=len(words_cv)-words_cv.count('<e>')\n",
    "\n",
    "    perp_list=[]\n",
    "    for d in [i/20 for i in range(1,21)]:\n",
    "        Interpolated_Kneser_Ney_dict={}\n",
    "        perp=1\n",
    "        for i in range(len(words_cv)-2):\n",
    "            x=(words_cv[i],words_cv[i+1],words_cv[i+2])\n",
    "            if(Interpolated_Kneser_Ney_dict.get(x,\"empty\")==\"empty\"):\n",
    "                if((x[0],x[1]) not in bgcounter):\n",
    "                    Interpolated_Kneser_Ney_dict[x]=findPKn_bigram((x[1],x[2]))\n",
    "\n",
    "                else:\n",
    "                    Interpolated_Kneser_Ney_dict[x]=findPKn_trigram(x,d)\n",
    "\n",
    "            perp=perp*((1/Interpolated_Kneser_Ney_dict[x])**(1/N))\n",
    "        perp_list.append(perp)\n",
    "    perp_cv_min=min(perp_list)\n",
    "    index=perp_list.index(perp_cv_min)\n",
    "    discount_list=[i/20 for i in range(1,21)]\n",
    "    discount_final=discount_list[index]\n",
    "    print(\"The lowest perplexity in cross validation set is {} corresponding to discount of {} when {}\".format(perp_cv_min,discount_final,label))\n",
    "\n",
    "    plt.grid() # grid on\n",
    "    plt.plot(discount_list,perp_list,label=label)\n",
    "    plt.ylabel('perplexity')\n",
    "    plt.xlabel('discount')\n",
    "    plt.legend()\n",
    "\n",
    "\n",
    "\n",
    "\n",
    "\n",
    "\n",
    "\n",
    "\n",
    "    words_te=[]\n",
    "    for i in range(len(text_te)):\n",
    "        words_te.extend(text_te[i])\n",
    "    for i in range(len(words_te)):\n",
    "        if(words_te[i] not in ugcounter):\n",
    "            words_te[i]='<UNK>'\n",
    "\n",
    "    N=len(words_te)-words_te.count('<e>')\n",
    "    Interpolated_Kneser_Ney_dict={}\n",
    "    perp=1\n",
    "    for i in range(len(words_te)-2):\n",
    "            x=(words_te[i],words_te[i+1],words_te[i+2])\n",
    "            if(Interpolated_Kneser_Ney_dict.get(x,\"empty\")==\"empty\"):\n",
    "                if((x[0],x[1]) not in bgcounter):\n",
    "                    Interpolated_Kneser_Ney_dict[x]=findPKn_bigram((x[1],x[2]))\n",
    "\n",
    "                else:\n",
    "                    Interpolated_Kneser_Ney_dict[x]=findPKn_trigram(x,discount_final)\n",
    "\n",
    "            perp=perp*((1/Interpolated_Kneser_Ney_dict[x])**(1/N))\n",
    "    return perp"
   ]
  },
  {
   "cell_type": "code",
   "execution_count": 30,
   "metadata": {},
   "outputs": [
    {
     "name": "stdout",
     "output_type": "stream",
     "text": [
      "The lowest perplexity in cross validation set is 269.52108852610195 corresponding to discount of 0.95 when training corpus is brown\n",
      "270.2984705683221\n",
      "The lowest perplexity in cross validation set is 121.938823947783 corresponding to discount of 0.9 when training corpus is gutenberg\n",
      "124.30046837977757\n",
      "The lowest perplexity in cross validation set is 171.19095184539916 corresponding to discount of 0.9 when training corpus is brown and gutenberg\n",
      "338.0892404713476\n"
     ]
    },
    {
     "data": {
      "image/png": "[encoded data removed]",
      "text/plain": [
       "<matplotlib.figure.Figure at 0x53fce250>"
      ]
     },
     "metadata": {},
     "output_type": "display_data"
    },
    {
     "name": "stdout",
     "output_type": "stream",
     "text": [
      "The lowest perplexity in cross validation set is 171.17501889103136 corresponding to discount of 0.9 when training corpus is brown and gutenberg\n",
      "129.68811537042208\n"
     ]
    }
   ],
   "source": [
    "text_gutenberg=list(gutenberg.sents())\n",
    "text_brown=list(brown.sents())\n",
    "text_gutenberg_size=len(text_gutenberg)\n",
    "text_gutenberg_size=len(text_gutenberg)\n",
    "text_brown_size=len(text_brown)\n",
    "for i in range(text_gutenberg_size):\n",
    "    text_gutenberg[i].insert(0,\"<s>\")\n",
    "    text_gutenberg[i].insert(len(text_gutenberg[i]),'<e>')\n",
    "    text_gutenberg[i].insert(len(text_gutenberg[i]),'<e>')\n",
    "for i in range(text_brown_size):\n",
    "    text_brown[i].insert(0,\"<s>\")\n",
    "    text_brown[i].insert(len(text_brown[i]),'<e>')\n",
    "    text_brown[i].insert(len(text_brown[i]),'<e>')\n",
    "text_gutenberg_tr,text_gutenberg_te=train_test_split(text_gutenberg,test_size=.20,random_state=4)\n",
    "text_brown_tr,text_brown_te=train_test_split(text_brown,test_size=.20,random_state=4)\n",
    "\n",
    "plt.close()\n",
    "print(findperplexity_KN(text_brown_tr,text_brown_te,\"training corpus is brown\"))\n",
    "print(findperplexity_KN(text_gutenberg_tr,text_gutenberg_te,\"training corpus is gutenberg\"))\n",
    "print(findperplexity_KN(text_brown_tr+text_gutenberg_tr,text_brown_te,\"training corpus is brown and gutenberg\"))\n",
    "plt.show()\n",
    "plt.close()\n",
    "print(findperplexity_KN(text_brown_tr+text_gutenberg_tr,text_gutenberg_te,\"training corpus is brown and gutenberg\"))\n",
    "plt.close()\n"
   ]
  },
  {
   "cell_type": "code",
   "execution_count": null,
   "metadata": {
    "collapsed": true
   },
   "outputs": [],
   "source": []
  },
  {
   "cell_type": "code",
   "execution_count": null,
   "metadata": {
    "collapsed": true
   },
   "outputs": [],
   "source": []
  },
  {
   "cell_type": "code",
   "execution_count": null,
   "metadata": {
    "collapsed": true
   },
   "outputs": [],
   "source": []
  },
  {
   "cell_type": "code",
   "execution_count": null,
   "metadata": {
    "collapsed": true
   },
   "outputs": [],
   "source": [
    "\n",
    "\n"
   ]
  },
  {
   "cell_type": "code",
   "execution_count": null,
   "metadata": {
    "collapsed": true
   },
   "outputs": [],
   "source": [
    "\n",
    "\n"
   ]
  },
  {
   "cell_type": "code",
   "execution_count": null,
   "metadata": {
    "collapsed": true
   },
   "outputs": [],
   "source": []
  },
  {
   "cell_type": "code",
   "execution_count": null,
   "metadata": {
    "collapsed": true
   },
   "outputs": [],
   "source": []
  },
  {
   "cell_type": "code",
   "execution_count": 96,
   "metadata": {},
   "outputs": [
    {
     "name": "stdout",
     "output_type": "stream",
     "text": [
      "0.9616023202772355\n"
     ]
    }
   ],
   "source": [
    "x=tg_keys[90]\n",
    "x1=(x[0],x[1])\n",
    "prob=0\n",
    "for tg in tg_keys:\n",
    "    if(((tg[0],tg[1])==x1)):\n",
    "        prob=prob+findPKn_trigram(tg)\n",
    "print(prob)"
   ]
  },
  {
   "cell_type": "code",
   "execution_count": null,
   "metadata": {
    "collapsed": true
   },
   "outputs": [],
   "source": []
  },
  {
   "cell_type": "code",
   "execution_count": null,
   "metadata": {
    "collapsed": true
   },
   "outputs": [],
   "source": []
  }
 ],
 "metadata": {
  "kernelspec": {
   "display_name": "Python 3",
   "language": "python",
   "name": "python3"
  },
  "language_info": {
   "codemirror_mode": {
    "name": "ipython",
    "version": 3
   },
   "file_extension": ".py",
   "mimetype": "text/x-python",
   "name": "python",
   "nbconvert_exporter": "python",
   "pygments_lexer": "ipython3",
   "version": "3.6.1"
  }
 },
 "nbformat": 4,
 "nbformat_minor": 2
}
