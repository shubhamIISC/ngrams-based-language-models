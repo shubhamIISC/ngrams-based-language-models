{
 "cells": [
  {
   "cell_type": "code",
   "execution_count": 1,
   "metadata": {
    "collapsed": true
   },
   "outputs": [],
   "source": [
    "import pandas as pd\n",
    "import collections\n",
    "import matplotlib.pyplot as plt\n",
    "import numpy as np\n",
    "import string\n",
    "import nltk\n",
    "from nltk.util import ngrams\n",
    "from sklearn.model_selection import train_test_split\n",
    "pd.set_option('display.max_column',4000)\n",
    "pd.set_option('display.max_row',4000)"
   ]
  },
  {
   "cell_type": "code",
   "execution_count": 2,
   "metadata": {
    "collapsed": true
   },
   "outputs": [],
   "source": [
    "from nltk.corpus import gutenberg\n",
    "from nltk.corpus import brown\n",
    "\n",
    "\n"
   ]
  },
  {
   "cell_type": "code",
   "execution_count": 44,
   "metadata": {
    "collapsed": true
   },
   "outputs": [],
   "source": [
    "def findperplexity_KN(text_tr,text_te,label):\n",
    "    \n",
    "    \n",
    "    text_tr,text_cv=train_test_split(text_tr,test_size=.20,random_state=4)\n",
    "    words_tr=[]\n",
    "    for i in range(len(text_tr)):\n",
    "        words_tr.extend(text_tr[i])\n",
    "    word_counts=len(words_tr)\n",
    "    \n",
    "    \n",
    "    unigram=collections.Counter(words_tr)\n",
    "    list_count_1=[word for word in unigram.keys() if unigram[word]==1]\n",
    "    list_count_1_len=len(list_count_1)\n",
    "\n",
    "    list_count_1=list_count_1[:1000]\n",
    "    list_count_1_dic=dict(collections.Counter(list_count_1))\n",
    "    for i in range(word_counts):\n",
    "        if(list_count_1_dic.get(words_tr[i],\"empty\")!=\"empty\"):\n",
    "            words_tr[i]='<UNK>'\n",
    "    \n",
    "    \n",
    "    bigram = ngrams(words_tr,2)\n",
    "    bgcounter=dict(collections.Counter(bigram))\n",
    "    del bgcounter[('<e>','<s>')]\n",
    "    bg_keys=list(bgcounter.keys())\n",
    "    total_bigram_types=len(bg_keys)\n",
    "    #print(bgcounter)\n",
    "    \n",
    "    ugcounter=dict(collections.Counter(words_tr))\n",
    "    ug_keys=list(ugcounter.keys())\n",
    "    #print(ugcounter)\n",
    "    \n",
    "    \n",
    "    count_second={}\n",
    "    count_first={}\n",
    "    for i in ug_keys:\n",
    "        count_first[i]=0\n",
    "        count_second[i]=0\n",
    "    for i in bg_keys:\n",
    "        count_first[i[0]]=count_first[i[0]]+1\n",
    "        count_second[i[1]]=count_second[i[1]]+1\n",
    "    Pcont={}\n",
    "    norm_constant={}\n",
    "    for i in ug_keys:\n",
    "        Pcont[i]=count_second[i]/total_bigram_types\n",
    "    \n",
    "    \n",
    "    words_cv=[]\n",
    "    for i in range(np.size(text_cv)):\n",
    "        words_cv.extend(text_cv[i])\n",
    "    count=0\n",
    "    for i in range(len(words_cv)):\n",
    "        if(words_cv[i] not in ugcounter):\n",
    "            words_cv[i]='<UNK>'\n",
    "        if(words_cv[i]=='<s>'):\n",
    "            count=count+1\n",
    "        \n",
    "            \n",
    "    N=len(words_cv)-count\n",
    "    \n",
    "    perp_list=[]\n",
    "    for d in [i/20 for i in range(1,21)]:\n",
    "        Interpolated_Kneser_Ney_dict={}\n",
    "        for i in ug_keys:\n",
    "            norm_constant[i]=(d*(count_first[i]))/ugcounter[i]\n",
    "        \n",
    "        for i in range(len(words_cv)-1):\n",
    "            if(i==0):\n",
    "                perp=1\n",
    "            if(words_cv[i]=='<e>' and words_cv[i+1]=='<s>'):\n",
    "                perp=perp\n",
    "            else:\n",
    "                x=(words_cv[i],words_cv[i+1])\n",
    "                if(Interpolated_Kneser_Ney_dict.get(x,\"empty\")==\"empty\"):\n",
    "                    discount=d\n",
    "                    Interpolated_Kneser_Ney_dict[x]= max((bgcounter.get(x,0)-discount),0)/ugcounter[x[0]]+norm_constant[x[0]]*Pcont[x[1]]\n",
    "                perp=perp*((1/Interpolated_Kneser_Ney_dict[x])**(1/N))\n",
    "        perp_list.append(perp)\n",
    "    perp_cv_min=min(perp_list)\n",
    "    index=perp_list.index(perp_cv_min)\n",
    "    discount_list=[i/20 for i in range(1,21)]\n",
    "    discount_final=discount_list[index]\n",
    "    print(\"The lowest perplexity in cross validation set is {} corresponding to discount of {} when {}\".format(perp_cv_min,discount_final,label))\n",
    "         \n",
    "    plt.grid() # grid on\n",
    "    plt.plot(discount_list,perp_list,label=label)\n",
    "    plt.ylabel('perplexity')\n",
    "    plt.xlabel('discount')\n",
    "    plt.legend()\n",
    "    \n",
    "    \n",
    "    \n",
    "    \n",
    "    \n",
    "    \n",
    "    \n",
    "    \n",
    "    for i in ug_keys:\n",
    "            norm_constant[i]=(discount_final*(count_first[i]))/ugcounter[i]\n",
    "    words_te=[]\n",
    "    for i in range(len(text_te)):\n",
    "        words_te.extend(text_te[i])\n",
    "    count=0\n",
    "    for i in range(len(words_te)):\n",
    "        if(words_te[i] not in ugcounter):\n",
    "            words_te[i]='<UNK>'\n",
    "        if(words_te[i]=='<s>'):\n",
    "            count=count+1\n",
    "        \n",
    "            \n",
    "    N=len(words_te)-count\n",
    "    Interpolated_Kneser_Ney_dict={}\n",
    "    for i in range(len(words_te)-1):\n",
    "        if(i==0):\n",
    "            perp=1\n",
    "        if(words_te[i]=='<e>' and words_te[i+1]=='<s>'):\n",
    "            perp=perp\n",
    "        else:\n",
    "            x=(words_te[i],words_te[i+1])\n",
    "            if(Interpolated_Kneser_Ney_dict.get(x,\"empty\")==\"empty\"):\n",
    "                Interpolated_Kneser_Ney_dict[x]= max((bgcounter.get(x,0)-discount_final),0)/ugcounter[x[0]]+norm_constant[x[0]]*Pcont[x[1]]\n",
    "            perp=perp*((1/Interpolated_Kneser_Ney_dict[x])**(1/N))\n",
    "    return perp\n",
    "\n",
    "\n"
   ]
  },
  {
   "cell_type": "code",
   "execution_count": 58,
   "metadata": {
    "collapsed": true
   },
   "outputs": [],
   "source": [
    "def findperplexity_katz(text_tr,text_te,label):\n",
    "    \n",
    "    text_tr,text_cv=train_test_split(text_tr,test_size=.20,random_state=4)\n",
    "    words_tr=[]\n",
    "    for i in range(len(text_tr)):\n",
    "        words_tr.extend(text_tr[i])\n",
    "    word_counts=len(words_tr)\n",
    "    \n",
    "    \n",
    "    unigram=collections.Counter(words_tr)\n",
    "    list_count_1=[word for word in unigram.keys() if unigram[word]==1]\n",
    "    list_count_1_len=len(list_count_1)\n",
    "    list_count_1=list_count_1[:1000]\n",
    "    list_count_1_dic=dict(collections.Counter(list_count_1))\n",
    "    for i in range(word_counts):\n",
    "        if(list_count_1_dic.get(words_tr[i],\"empty\")!=\"empty\"):\n",
    "            words_tr[i]='<UNK>'\n",
    "    \n",
    "    \n",
    "    bigram = ngrams(words_tr,2)\n",
    "    bgcounter=dict(collections.Counter(bigram))\n",
    "    del bgcounter[('<e>','<s>')]\n",
    "    bg_keys=list(bgcounter.keys())\n",
    "    bg_values=list(bgcounter.values())\n",
    "    total_bigram_types=len(bg_keys)\n",
    "#print(bgcounter)\n",
    "\n",
    "\n",
    "    ugcounter=dict(collections.Counter(words_tr))\n",
    "    ug_keys=list(ugcounter.keys())\n",
    "    ug_values=list(ugcounter.values())\n",
    "    sum_ug_values=np.sum(ug_values)\n",
    "    \n",
    "    alpha={}\n",
    "    for ug in ug_keys:\n",
    "        alpha[ug]=0\n",
    "    for bg in bg_keys:\n",
    "        alpha[bg[0]]=alpha[bg[0]]+bgcounter[bg]-.75\n",
    "    \n",
    "\n",
    "    alpha={k:(1-(v/ugcounter[k])) for k,v in alpha.items()}\n",
    "\n",
    "\n",
    "\n",
    "    sum_count={}\n",
    "\n",
    "    for ug in ug_keys:\n",
    "        sum_count[ug]=sum_ug_values\n",
    "    for bg in bg_keys:\n",
    "        sum_count[bg[0]]=sum_count[bg[0]]-ugcounter[bg[1]]\n",
    "    \n",
    "    \n",
    "    \n",
    "    words_cv=[]\n",
    "    for i in range(len(text_cv)):\n",
    "        words_cv.extend(text_cv[i])\n",
    "    for i in range(len(words_cv)):\n",
    "        if(words_cv[i] not in ugcounter):\n",
    "            words_cv[i]='<UNK>'\n",
    "            \n",
    "    N=len(words_cv)-words_cv.count('<s>')\n",
    "    \n",
    "    perp_list=[]\n",
    "    for d in [i/20 for i in range(1,21)]:\n",
    "        for ug in ug_keys:\n",
    "            alpha[ug]=0\n",
    "        for bg in bg_keys:\n",
    "            alpha[bg[0]]=alpha[bg[0]]+bgcounter[bg]-d\n",
    "        alpha={k:(1-(v/ugcounter[k])) for k,v in alpha.items()}\n",
    "        for i in range(len(words_cv)-1):\n",
    "            if(i==0):\n",
    "                perp=1\n",
    "            if(words_cv[i]=='<e>' and words_cv[i+1]=='<s>'):\n",
    "                perp=perp\n",
    "            else:\n",
    "                x=(words_cv[i],words_cv[i+1])\n",
    "                prob=max((bgcounter.get(x,0)-d),0)/ugcounter[x[0]]\n",
    "                if(prob==0):\n",
    "                    prob=(alpha[x[0]]*ugcounter[x[1]])/sum_count[x[0]]\n",
    "                perp=perp*((1/prob)**(1/N))\n",
    "        perp_list.append(perp)\n",
    "    perp_cv_min=min(perp_list)\n",
    "    index=perp_list.index(perp_cv_min)\n",
    "    discount_list=[i/20 for i in range(1,21)]\n",
    "    discount_final=discount_list[index]\n",
    "    print(\"The lowest perplexity in cross validation set is {} corresponding to discount of {} when {}\".format(perp_cv_min,discount_final,label))\n",
    "         \n",
    "    plt.grid() # grid on\n",
    "    plt.plot(discount_list,perp_list,label=label)\n",
    "    plt.ylabel('perplexity')\n",
    "    plt.xlabel('discount')\n",
    "    plt.legend()\n",
    "        \n",
    "    \n",
    "    \n",
    "    \n",
    "\n",
    "    for ug in ug_keys:\n",
    "        alpha[ug]=0\n",
    "    for bg in bg_keys:\n",
    "        alpha[bg[0]]=alpha[bg[0]]+bgcounter[bg]-discount_final\n",
    "    alpha={k:(1-(v/ugcounter[k])) for k,v in alpha.items()}\n",
    "    words_te=[]\n",
    "    for i in range(len(text_te)):\n",
    "        words_te.extend(text_te[i])\n",
    "    for i in range(len(words_te)):\n",
    "        if(words_te[i] not in ugcounter):\n",
    "            words_te[i]='<UNK>'\n",
    "            \n",
    "    N=len(words_te)-words_te.count('<s>')\n",
    "    for i in range(len(words_te)-1):\n",
    "        if(i==0):\n",
    "            perp=1\n",
    "        if(words_te[i]=='<e>' and words_te[i+1]=='<s>'):\n",
    "            perp=perp\n",
    "        else:\n",
    "            x=(words_te[i],words_te[i+1])\n",
    "            prob=max((bgcounter.get(x,0)-discount_final),0)/ugcounter[x[0]]\n",
    "            if(prob==0):\n",
    "                prob=(alpha[x[0]]*ugcounter[x[1]])/sum_count[x[0]]\n",
    "            perp=perp*((1/prob)**(1/N))\n",
    "    return perp\n",
    "    "
   ]
  },
  {
   "cell_type": "code",
   "execution_count": 5,
   "metadata": {
    "collapsed": true
   },
   "outputs": [],
   "source": [
    "text_gutenberg=list(gutenberg.sents())\n",
    "text_brown=list(brown.sents())\n"
   ]
  },
  {
   "cell_type": "code",
   "execution_count": 6,
   "metadata": {
    "collapsed": true
   },
   "outputs": [],
   "source": [
    "text_gutenberg_size=len(text_gutenberg)\n",
    "text_brown_size=len(text_brown)"
   ]
  },
  {
   "cell_type": "code",
   "execution_count": 7,
   "metadata": {
    "collapsed": true
   },
   "outputs": [],
   "source": [
    "for i in range(text_gutenberg_size):\n",
    "    text_gutenberg[i].insert(0,\"<s>\")\n",
    "    text_gutenberg[i].insert(len(text_gutenberg[i]),'<e>')"
   ]
  },
  {
   "cell_type": "code",
   "execution_count": 8,
   "metadata": {
    "collapsed": true
   },
   "outputs": [],
   "source": [
    "for i in range(text_brown_size):\n",
    "    text_brown[i].insert(0,\"<s>\")\n",
    "    text_brown[i].insert(len(text_brown[i]),'<e>')"
   ]
  },
  {
   "cell_type": "code",
   "execution_count": 9,
   "metadata": {
    "collapsed": true
   },
   "outputs": [],
   "source": [
    "text_brown_tr,text_brown_te=train_test_split(text_brown,test_size=.20,random_state=4)\n",
    "\n",
    "text_gutenberg_tr,text_gutenberg_te=train_test_split(text_gutenberg,test_size=.20,random_state=4)\n"
   ]
  },
  {
   "cell_type": "code",
   "execution_count": 60,
   "metadata": {},
   "outputs": [
    {
     "name": "stdout",
     "output_type": "stream",
     "text": [
      "The lowest perplexity in cross validation set is 296.9048126811205 corresponding to discount of 0.8 when training corpus is brown\n",
      "297.5913419751577\n",
      "The lowest perplexity in cross validation set is 153.73771507905366 corresponding to discount of 0.75 when training corpus is gutenberg\n",
      "156.40325677152754\n",
      "The lowest perplexity in cross validation set is 212.43986909679245 corresponding to discount of 0.8 when training corpus is brown and gutenberg\n",
      "379.1320601823221\n"
     ]
    },
    {
     "data": {
      "image/png": "[encoded data removed]",
      "text/plain": [
       "<matplotlib.figure.Figure at 0x1b7e3cd0>"
      ]
     },
     "metadata": {},
     "output_type": "display_data"
    },
    {
     "name": "stdout",
     "output_type": "stream",
     "text": [
      "The lowest perplexity in cross validation set is 212.43986909679245 corresponding to discount of 0.8 when training corpus is brown and gutenberg\n",
      "167.66800125949797\n",
      "The lowest perplexity in cross validation set is 319.75217711060503 corresponding to discount of 0.7 when training corpus is brown\n",
      "320.269289425\n",
      "The lowest perplexity in cross validation set is 163.20181667409582 corresponding to discount of 0.65 when training corpus is gutenberg\n",
      "166.31455148\n",
      "The lowest perplexity in cross validation set is 225.5007172058336 corresponding to discount of 0.65 when training corpus is brown and gutenberg\n",
      "417.960180339\n"
     ]
    },
    {
     "data": {
      "image/png": "[encoded data removed]",
      "text/plain": [
       "<matplotlib.figure.Figure at 0x1b49fa90>"
      ]
     },
     "metadata": {},
     "output_type": "display_data"
    },
    {
     "name": "stdout",
     "output_type": "stream",
     "text": [
      "The lowest perplexity in cross validation set is 225.5007172058336 corresponding to discount of 0.65 when training corpus is brown and gutenberg\n",
      "175.14707436\n"
     ]
    }
   ],
   "source": [
    "plt.close()\n",
    "print(findperplexity_KN(text_brown_tr,text_brown_te,\"training corpus is brown\"))\n",
    "print(findperplexity_KN(text_gutenberg_tr,text_gutenberg_te,\"training corpus is gutenberg\"))\n",
    "print(findperplexity_KN(text_brown_tr+text_gutenberg_tr,text_brown_te,\"training corpus is brown and gutenberg\"))\n",
    "plt.show()\n",
    "plt.close()\n",
    "print(findperplexity_KN(text_brown_tr+text_gutenberg_tr,text_gutenberg_te,\"training corpus is brown and gutenberg\"))\n",
    "plt.close()\n",
    "print(findperplexity_katz(text_brown_tr,text_brown_te,\"training corpus is brown\"))\n",
    "print(findperplexity_katz(text_gutenberg_tr,text_gutenberg_te,\"training corpus is gutenberg\"))\n",
    "print(findperplexity_katz(text_brown_tr+text_gutenberg_tr,text_brown_te,\"training corpus is brown and gutenberg\"))\n",
    "plt.show()\n",
    "plt.close()\n",
    "print(findperplexity_katz(text_brown_tr+text_gutenberg_tr,text_gutenberg_te,\"training corpus is brown and gutenberg\"))"
   ]
  },
  {
   "cell_type": "code",
   "execution_count": null,
   "metadata": {
    "collapsed": true
   },
   "outputs": [],
   "source": []
  }
 ],
 "metadata": {
  "kernelspec": {
   "display_name": "Python 3",
   "language": "python",
   "name": "python3"
  },
  "language_info": {
   "codemirror_mode": {
    "name": "ipython",
    "version": 3
   },
   "file_extension": ".py",
   "mimetype": "text/x-python",
   "name": "python",
   "nbconvert_exporter": "python",
   "pygments_lexer": "ipython3",
   "version": "3.6.1"
  }
 },
 "nbformat": 4,
 "nbformat_minor": 2
}
